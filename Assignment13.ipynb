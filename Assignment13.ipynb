{
  "nbformat": 4,
  "nbformat_minor": 0,
  "metadata": {
    "colab": {
      "provenance": [],
      "authorship_tag": "ABX9TyPXrAUuYDkSrpRlflPSPQZp",
      "include_colab_link": true
    },
    "kernelspec": {
      "name": "python3",
      "display_name": "Python 3"
    },
    "language_info": {
      "name": "python"
    }
  },
  "cells": [
    {
      "cell_type": "markdown",
      "metadata": {
        "id": "view-in-github",
        "colab_type": "text"
      },
      "source": [
        "<a href=\"https://colab.research.google.com/github/ttollefson11/IS4487/blob/main/Assignment13.ipynb\" target=\"_parent\"><img src=\"https://colab.research.google.com/assets/colab-badge.svg\" alt=\"Open In Colab\"/></a>"
      ]
    },
    {
      "cell_type": "markdown",
      "source": [
        "# Assignment 12 Script\n",
        "\n",
        "## Objectives\n",
        "\n",
        "What do you need to know for this module's project?\n",
        "\n",
        "1. Fit a tree model using all the available predictors. \n",
        "2. Create a confusion matrix  and identify numbers of TP, FP, TN and FN.\n",
        "3. Estimate profit (benefits - costs) using a defined cost-benefit matrix and the above confusion matrix.\n",
        "4. Estimate profit for a strategy that consists in calling everyone.\n",
        "5. Estimate profit for a class decision threshold of .5 \n",
        "6.  Use the model to predict on a new dataset (without the target), then use these predictions to identify those who should be called--a contact list.\n",
        "7.  Make a recommendation to the Director of Sales based on your analytic work.\n",
        "\n",
        "**NOTE:** For the module 5 project you will predict answering for prospective customers (who have not yet been called). Consequently, the assignment requires an additional dataset, customer_data.csv, that you will need to download and move into your project folder.  Here is code to load that data into memory after you have it saved in your project folder (your working directory). This code is included in the template script."
      ],
      "metadata": {
        "id": "KaPkPuJfNn4F"
      }
    },
    {
      "cell_type": "markdown",
      "source": [
        "##Load Libraries\n",
        "\n",
        "In this class we will be using \n",
        "- Pandas\n",
        "- Scikitlearn\n",
        "- Matplotlib"
      ],
      "metadata": {
        "id": "IJtH0SvuODR2"
      }
    },
    {
      "cell_type": "code",
      "source": [
        "import pandas as pd\n",
        "import matplotlib as mpl\n",
        "import seaborn as sns\n",
        "\n",
        "from sklearn.tree import DecisionTreeClassifier, export_graphviz # Import Decision Tree Classifier\n",
        "from sklearn.model_selection import train_test_split # Import train_test_split function\n",
        "from sklearn import metrics  #Import scikit-learn metrics module for accuracy calculation\n",
        "from sklearn.metrics import confusion_matrix"
      ],
      "metadata": {
        "id": "K4NbBM-COEL5"
      },
      "execution_count": 1,
      "outputs": []
    },
    {
      "cell_type": "markdown",
      "source": [
        "## Getting data into Pandas\n",
        "\n",
        "In this case we will load data from the statsmodels.org library\n",
        "\n",
        "See the Canvas assignments and lectures for a description of the AdviseInvest data\n",
        "\n",
        "**Note:** you will need to enter a code supplied by Google in the next step. "
      ],
      "metadata": {
        "id": "4wjOchAaN8iY"
      }
    },
    {
      "cell_type": "code",
      "execution_count": 2,
      "metadata": {
        "colab": {
          "base_uri": "https://localhost:8080/"
        },
        "id": "eX7TTVsKNmy9",
        "outputId": "67783c1a-2b86-4d84-b52b-f7541d93d08f"
      },
      "outputs": [
        {
          "output_type": "stream",
          "name": "stdout",
          "text": [
            "Mounted at /content/gdrive\n"
          ]
        }
      ],
      "source": [
        "from google.colab import drive \n",
        "drive.mount('/content/gdrive', force_remount=True)\n",
        "\n",
        "df = pd.read_csv (r'/content/gdrive/MyDrive/Colab Notebooks/adviseinvest.csv')\n",
        "df_new = pd.read_csv (r'/content/gdrive/MyDrive/Colab Notebooks/customer_data.csv')"
      ]
    },
    {
      "cell_type": "code",
      "source": [
        "#look at the top rows\n",
        "df.head(10) "
      ],
      "metadata": {
        "colab": {
          "base_uri": "https://localhost:8080/",
          "height": 427
        },
        "id": "cGUmkkYUOwgf",
        "outputId": "985498f5-89f7-4f31-9d9b-bc6e6cf5b8a6"
      },
      "execution_count": 3,
      "outputs": [
        {
          "output_type": "execute_result",
          "data": {
            "text/plain": [
              "   answered  income  female  age  job  num_dependents  rent  own_res  new_car  \\\n",
              "0         1   13520       0   23    0               1     1        0      0.0   \n",
              "1         0   14780       0   22    2               1     0        1      0.0   \n",
              "2         1   37570       0   62    2               1     0        0      1.0   \n",
              "3         0   12450       0   33    2               1     0        1      0.0   \n",
              "4         0   12400       0   48    1               2     0        0      1.0   \n",
              "5         1   14030       0   28    2               1     1        0      1.0   \n",
              "6         1    9320       0   24    2               1     0        1      0.0   \n",
              "7         1   11750       0   68    0               1     0        0      1.0   \n",
              "8         1   69670       0   36    3               1     1        0      0.0   \n",
              "9         1    3380       0   52    2               1     0        1      0.0   \n",
              "\n",
              "   chk_acct  sav_acct  num_accts  mobile  product  \n",
              "0         0         2          0       1        2  \n",
              "1         3         0          3       0        0  \n",
              "2         3         0          4       0        4  \n",
              "3         1         0          2       0        0  \n",
              "4         2         1          4       0        0  \n",
              "5         0         0          2       0        4  \n",
              "6         3         0          2       0        2  \n",
              "7         1         0          0       0        3  \n",
              "8         1         1          3       0        4  \n",
              "9         0         2          4       0        4  "
            ],
            "text/html": [
              "\n",
              "  <div id=\"df-954ad592-513d-4471-8463-c4214a544191\">\n",
              "    <div class=\"colab-df-container\">\n",
              "      <div>\n",
              "<style scoped>\n",
              "    .dataframe tbody tr th:only-of-type {\n",
              "        vertical-align: middle;\n",
              "    }\n",
              "\n",
              "    .dataframe tbody tr th {\n",
              "        vertical-align: top;\n",
              "    }\n",
              "\n",
              "    .dataframe thead th {\n",
              "        text-align: right;\n",
              "    }\n",
              "</style>\n",
              "<table border=\"1\" class=\"dataframe\">\n",
              "  <thead>\n",
              "    <tr style=\"text-align: right;\">\n",
              "      <th></th>\n",
              "      <th>answered</th>\n",
              "      <th>income</th>\n",
              "      <th>female</th>\n",
              "      <th>age</th>\n",
              "      <th>job</th>\n",
              "      <th>num_dependents</th>\n",
              "      <th>rent</th>\n",
              "      <th>own_res</th>\n",
              "      <th>new_car</th>\n",
              "      <th>chk_acct</th>\n",
              "      <th>sav_acct</th>\n",
              "      <th>num_accts</th>\n",
              "      <th>mobile</th>\n",
              "      <th>product</th>\n",
              "    </tr>\n",
              "  </thead>\n",
              "  <tbody>\n",
              "    <tr>\n",
              "      <th>0</th>\n",
              "      <td>1</td>\n",
              "      <td>13520</td>\n",
              "      <td>0</td>\n",
              "      <td>23</td>\n",
              "      <td>0</td>\n",
              "      <td>1</td>\n",
              "      <td>1</td>\n",
              "      <td>0</td>\n",
              "      <td>0.0</td>\n",
              "      <td>0</td>\n",
              "      <td>2</td>\n",
              "      <td>0</td>\n",
              "      <td>1</td>\n",
              "      <td>2</td>\n",
              "    </tr>\n",
              "    <tr>\n",
              "      <th>1</th>\n",
              "      <td>0</td>\n",
              "      <td>14780</td>\n",
              "      <td>0</td>\n",
              "      <td>22</td>\n",
              "      <td>2</td>\n",
              "      <td>1</td>\n",
              "      <td>0</td>\n",
              "      <td>1</td>\n",
              "      <td>0.0</td>\n",
              "      <td>3</td>\n",
              "      <td>0</td>\n",
              "      <td>3</td>\n",
              "      <td>0</td>\n",
              "      <td>0</td>\n",
              "    </tr>\n",
              "    <tr>\n",
              "      <th>2</th>\n",
              "      <td>1</td>\n",
              "      <td>37570</td>\n",
              "      <td>0</td>\n",
              "      <td>62</td>\n",
              "      <td>2</td>\n",
              "      <td>1</td>\n",
              "      <td>0</td>\n",
              "      <td>0</td>\n",
              "      <td>1.0</td>\n",
              "      <td>3</td>\n",
              "      <td>0</td>\n",
              "      <td>4</td>\n",
              "      <td>0</td>\n",
              "      <td>4</td>\n",
              "    </tr>\n",
              "    <tr>\n",
              "      <th>3</th>\n",
              "      <td>0</td>\n",
              "      <td>12450</td>\n",
              "      <td>0</td>\n",
              "      <td>33</td>\n",
              "      <td>2</td>\n",
              "      <td>1</td>\n",
              "      <td>0</td>\n",
              "      <td>1</td>\n",
              "      <td>0.0</td>\n",
              "      <td>1</td>\n",
              "      <td>0</td>\n",
              "      <td>2</td>\n",
              "      <td>0</td>\n",
              "      <td>0</td>\n",
              "    </tr>\n",
              "    <tr>\n",
              "      <th>4</th>\n",
              "      <td>0</td>\n",
              "      <td>12400</td>\n",
              "      <td>0</td>\n",
              "      <td>48</td>\n",
              "      <td>1</td>\n",
              "      <td>2</td>\n",
              "      <td>0</td>\n",
              "      <td>0</td>\n",
              "      <td>1.0</td>\n",
              "      <td>2</td>\n",
              "      <td>1</td>\n",
              "      <td>4</td>\n",
              "      <td>0</td>\n",
              "      <td>0</td>\n",
              "    </tr>\n",
              "    <tr>\n",
              "      <th>5</th>\n",
              "      <td>1</td>\n",
              "      <td>14030</td>\n",
              "      <td>0</td>\n",
              "      <td>28</td>\n",
              "      <td>2</td>\n",
              "      <td>1</td>\n",
              "      <td>1</td>\n",
              "      <td>0</td>\n",
              "      <td>1.0</td>\n",
              "      <td>0</td>\n",
              "      <td>0</td>\n",
              "      <td>2</td>\n",
              "      <td>0</td>\n",
              "      <td>4</td>\n",
              "    </tr>\n",
              "    <tr>\n",
              "      <th>6</th>\n",
              "      <td>1</td>\n",
              "      <td>9320</td>\n",
              "      <td>0</td>\n",
              "      <td>24</td>\n",
              "      <td>2</td>\n",
              "      <td>1</td>\n",
              "      <td>0</td>\n",
              "      <td>1</td>\n",
              "      <td>0.0</td>\n",
              "      <td>3</td>\n",
              "      <td>0</td>\n",
              "      <td>2</td>\n",
              "      <td>0</td>\n",
              "      <td>2</td>\n",
              "    </tr>\n",
              "    <tr>\n",
              "      <th>7</th>\n",
              "      <td>1</td>\n",
              "      <td>11750</td>\n",
              "      <td>0</td>\n",
              "      <td>68</td>\n",
              "      <td>0</td>\n",
              "      <td>1</td>\n",
              "      <td>0</td>\n",
              "      <td>0</td>\n",
              "      <td>1.0</td>\n",
              "      <td>1</td>\n",
              "      <td>0</td>\n",
              "      <td>0</td>\n",
              "      <td>0</td>\n",
              "      <td>3</td>\n",
              "    </tr>\n",
              "    <tr>\n",
              "      <th>8</th>\n",
              "      <td>1</td>\n",
              "      <td>69670</td>\n",
              "      <td>0</td>\n",
              "      <td>36</td>\n",
              "      <td>3</td>\n",
              "      <td>1</td>\n",
              "      <td>1</td>\n",
              "      <td>0</td>\n",
              "      <td>0.0</td>\n",
              "      <td>1</td>\n",
              "      <td>1</td>\n",
              "      <td>3</td>\n",
              "      <td>0</td>\n",
              "      <td>4</td>\n",
              "    </tr>\n",
              "    <tr>\n",
              "      <th>9</th>\n",
              "      <td>1</td>\n",
              "      <td>3380</td>\n",
              "      <td>0</td>\n",
              "      <td>52</td>\n",
              "      <td>2</td>\n",
              "      <td>1</td>\n",
              "      <td>0</td>\n",
              "      <td>1</td>\n",
              "      <td>0.0</td>\n",
              "      <td>0</td>\n",
              "      <td>2</td>\n",
              "      <td>4</td>\n",
              "      <td>0</td>\n",
              "      <td>4</td>\n",
              "    </tr>\n",
              "  </tbody>\n",
              "</table>\n",
              "</div>\n",
              "      <button class=\"colab-df-convert\" onclick=\"convertToInteractive('df-954ad592-513d-4471-8463-c4214a544191')\"\n",
              "              title=\"Convert this dataframe to an interactive table.\"\n",
              "              style=\"display:none;\">\n",
              "        \n",
              "  <svg xmlns=\"http://www.w3.org/2000/svg\" height=\"24px\"viewBox=\"0 0 24 24\"\n",
              "       width=\"24px\">\n",
              "    <path d=\"M0 0h24v24H0V0z\" fill=\"none\"/>\n",
              "    <path d=\"M18.56 5.44l.94 2.06.94-2.06 2.06-.94-2.06-.94-.94-2.06-.94 2.06-2.06.94zm-11 1L8.5 8.5l.94-2.06 2.06-.94-2.06-.94L8.5 2.5l-.94 2.06-2.06.94zm10 10l.94 2.06.94-2.06 2.06-.94-2.06-.94-.94-2.06-.94 2.06-2.06.94z\"/><path d=\"M17.41 7.96l-1.37-1.37c-.4-.4-.92-.59-1.43-.59-.52 0-1.04.2-1.43.59L10.3 9.45l-7.72 7.72c-.78.78-.78 2.05 0 2.83L4 21.41c.39.39.9.59 1.41.59.51 0 1.02-.2 1.41-.59l7.78-7.78 2.81-2.81c.8-.78.8-2.07 0-2.86zM5.41 20L4 18.59l7.72-7.72 1.47 1.35L5.41 20z\"/>\n",
              "  </svg>\n",
              "      </button>\n",
              "      \n",
              "  <style>\n",
              "    .colab-df-container {\n",
              "      display:flex;\n",
              "      flex-wrap:wrap;\n",
              "      gap: 12px;\n",
              "    }\n",
              "\n",
              "    .colab-df-convert {\n",
              "      background-color: #E8F0FE;\n",
              "      border: none;\n",
              "      border-radius: 50%;\n",
              "      cursor: pointer;\n",
              "      display: none;\n",
              "      fill: #1967D2;\n",
              "      height: 32px;\n",
              "      padding: 0 0 0 0;\n",
              "      width: 32px;\n",
              "    }\n",
              "\n",
              "    .colab-df-convert:hover {\n",
              "      background-color: #E2EBFA;\n",
              "      box-shadow: 0px 1px 2px rgba(60, 64, 67, 0.3), 0px 1px 3px 1px rgba(60, 64, 67, 0.15);\n",
              "      fill: #174EA6;\n",
              "    }\n",
              "\n",
              "    [theme=dark] .colab-df-convert {\n",
              "      background-color: #3B4455;\n",
              "      fill: #D2E3FC;\n",
              "    }\n",
              "\n",
              "    [theme=dark] .colab-df-convert:hover {\n",
              "      background-color: #434B5C;\n",
              "      box-shadow: 0px 1px 3px 1px rgba(0, 0, 0, 0.15);\n",
              "      filter: drop-shadow(0px 1px 2px rgba(0, 0, 0, 0.3));\n",
              "      fill: #FFFFFF;\n",
              "    }\n",
              "  </style>\n",
              "\n",
              "      <script>\n",
              "        const buttonEl =\n",
              "          document.querySelector('#df-954ad592-513d-4471-8463-c4214a544191 button.colab-df-convert');\n",
              "        buttonEl.style.display =\n",
              "          google.colab.kernel.accessAllowed ? 'block' : 'none';\n",
              "\n",
              "        async function convertToInteractive(key) {\n",
              "          const element = document.querySelector('#df-954ad592-513d-4471-8463-c4214a544191');\n",
              "          const dataTable =\n",
              "            await google.colab.kernel.invokeFunction('convertToInteractive',\n",
              "                                                     [key], {});\n",
              "          if (!dataTable) return;\n",
              "\n",
              "          const docLinkHtml = 'Like what you see? Visit the ' +\n",
              "            '<a target=\"_blank\" href=https://colab.research.google.com/notebooks/data_table.ipynb>data table notebook</a>'\n",
              "            + ' to learn more about interactive tables.';\n",
              "          element.innerHTML = '';\n",
              "          dataTable['output_type'] = 'display_data';\n",
              "          await google.colab.output.renderOutput(dataTable, element);\n",
              "          const docLink = document.createElement('div');\n",
              "          docLink.innerHTML = docLinkHtml;\n",
              "          element.appendChild(docLink);\n",
              "        }\n",
              "      </script>\n",
              "    </div>\n",
              "  </div>\n",
              "  "
            ]
          },
          "metadata": {},
          "execution_count": 3
        }
      ]
    },
    {
      "cell_type": "code",
      "source": [
        "#look at the datatypes\n",
        "df.info()"
      ],
      "metadata": {
        "colab": {
          "base_uri": "https://localhost:8080/"
        },
        "id": "HsTXzbsjO4Bs",
        "outputId": "6ccc3f9f-11db-4a1f-90c2-d17453ad407f"
      },
      "execution_count": 4,
      "outputs": [
        {
          "output_type": "stream",
          "name": "stdout",
          "text": [
            "<class 'pandas.core.frame.DataFrame'>\n",
            "RangeIndex: 29504 entries, 0 to 29503\n",
            "Data columns (total 14 columns):\n",
            " #   Column          Non-Null Count  Dtype  \n",
            "---  ------          --------------  -----  \n",
            " 0   answered        29504 non-null  int64  \n",
            " 1   income          29504 non-null  int64  \n",
            " 2   female          29504 non-null  int64  \n",
            " 3   age             29504 non-null  int64  \n",
            " 4   job             29504 non-null  int64  \n",
            " 5   num_dependents  29504 non-null  int64  \n",
            " 6   rent            29504 non-null  int64  \n",
            " 7   own_res         29504 non-null  int64  \n",
            " 8   new_car         29502 non-null  float64\n",
            " 9   chk_acct        29504 non-null  int64  \n",
            " 10  sav_acct        29504 non-null  int64  \n",
            " 11  num_accts       29504 non-null  int64  \n",
            " 12  mobile          29504 non-null  int64  \n",
            " 13  product         29504 non-null  int64  \n",
            "dtypes: float64(1), int64(13)\n",
            "memory usage: 3.2 MB\n"
          ]
        }
      ]
    },
    {
      "cell_type": "code",
      "source": [
        "#describe the data before cleaning it\n",
        "df.describe()"
      ],
      "metadata": {
        "colab": {
          "base_uri": "https://localhost:8080/",
          "height": 364
        },
        "id": "22htc5kkO6UM",
        "outputId": "23a7c260-fbc8-4986-ddfe-1e90df3a7a28"
      },
      "execution_count": 5,
      "outputs": [
        {
          "output_type": "execute_result",
          "data": {
            "text/plain": [
              "           answered         income        female           age           job  \\\n",
              "count  29504.000000   29504.000000  29504.000000  29504.000000  29504.000000   \n",
              "mean       0.546638   33766.893303      0.054230     34.770065      1.915401   \n",
              "std        0.497829   29379.202710      0.226475     11.355777      0.658183   \n",
              "min        0.000000  -65600.000000      0.000000     19.000000      0.000000   \n",
              "25%        0.000000   13550.000000      0.000000     26.000000      2.000000   \n",
              "50%        1.000000   23310.000000      0.000000     32.000000      2.000000   \n",
              "75%        1.000000   41690.000000      0.000000     40.000000      2.000000   \n",
              "max        1.000000  159450.000000      1.000000     74.000000      3.000000   \n",
              "\n",
              "       num_dependents          rent       own_res       new_car      chk_acct  \\\n",
              "count    29504.000000  29504.000000  29504.000000  29502.000000  29504.000000   \n",
              "mean         1.140998      0.210412      0.681128      0.240797      1.468547   \n",
              "std          0.348025      0.407608      0.466047      0.427575      1.234727   \n",
              "min          1.000000      0.000000      0.000000      0.000000      0.000000   \n",
              "25%          1.000000      0.000000      0.000000      0.000000      0.000000   \n",
              "50%          1.000000      0.000000      1.000000      0.000000      1.000000   \n",
              "75%          1.000000      0.000000      1.000000      0.000000      3.000000   \n",
              "max          2.000000      1.000000      1.000000      1.000000      3.000000   \n",
              "\n",
              "           sav_acct     num_accts        mobile       product  \n",
              "count  29504.000000  29504.000000  29504.000000  29504.000000  \n",
              "mean       0.956616      2.458175      0.091106      1.535792  \n",
              "std        1.483946     19.497353      0.287765      1.625916  \n",
              "min        0.000000      0.000000      0.000000      0.000000  \n",
              "25%        0.000000      2.000000      0.000000      0.000000  \n",
              "50%        0.000000      2.000000      0.000000      1.000000  \n",
              "75%        2.000000      3.000000      0.000000      3.000000  \n",
              "max        4.000000   3345.000000      1.000000      4.000000  "
            ],
            "text/html": [
              "\n",
              "  <div id=\"df-3ead8be6-d803-4b35-a0b6-b2dc99475458\">\n",
              "    <div class=\"colab-df-container\">\n",
              "      <div>\n",
              "<style scoped>\n",
              "    .dataframe tbody tr th:only-of-type {\n",
              "        vertical-align: middle;\n",
              "    }\n",
              "\n",
              "    .dataframe tbody tr th {\n",
              "        vertical-align: top;\n",
              "    }\n",
              "\n",
              "    .dataframe thead th {\n",
              "        text-align: right;\n",
              "    }\n",
              "</style>\n",
              "<table border=\"1\" class=\"dataframe\">\n",
              "  <thead>\n",
              "    <tr style=\"text-align: right;\">\n",
              "      <th></th>\n",
              "      <th>answered</th>\n",
              "      <th>income</th>\n",
              "      <th>female</th>\n",
              "      <th>age</th>\n",
              "      <th>job</th>\n",
              "      <th>num_dependents</th>\n",
              "      <th>rent</th>\n",
              "      <th>own_res</th>\n",
              "      <th>new_car</th>\n",
              "      <th>chk_acct</th>\n",
              "      <th>sav_acct</th>\n",
              "      <th>num_accts</th>\n",
              "      <th>mobile</th>\n",
              "      <th>product</th>\n",
              "    </tr>\n",
              "  </thead>\n",
              "  <tbody>\n",
              "    <tr>\n",
              "      <th>count</th>\n",
              "      <td>29504.000000</td>\n",
              "      <td>29504.000000</td>\n",
              "      <td>29504.000000</td>\n",
              "      <td>29504.000000</td>\n",
              "      <td>29504.000000</td>\n",
              "      <td>29504.000000</td>\n",
              "      <td>29504.000000</td>\n",
              "      <td>29504.000000</td>\n",
              "      <td>29502.000000</td>\n",
              "      <td>29504.000000</td>\n",
              "      <td>29504.000000</td>\n",
              "      <td>29504.000000</td>\n",
              "      <td>29504.000000</td>\n",
              "      <td>29504.000000</td>\n",
              "    </tr>\n",
              "    <tr>\n",
              "      <th>mean</th>\n",
              "      <td>0.546638</td>\n",
              "      <td>33766.893303</td>\n",
              "      <td>0.054230</td>\n",
              "      <td>34.770065</td>\n",
              "      <td>1.915401</td>\n",
              "      <td>1.140998</td>\n",
              "      <td>0.210412</td>\n",
              "      <td>0.681128</td>\n",
              "      <td>0.240797</td>\n",
              "      <td>1.468547</td>\n",
              "      <td>0.956616</td>\n",
              "      <td>2.458175</td>\n",
              "      <td>0.091106</td>\n",
              "      <td>1.535792</td>\n",
              "    </tr>\n",
              "    <tr>\n",
              "      <th>std</th>\n",
              "      <td>0.497829</td>\n",
              "      <td>29379.202710</td>\n",
              "      <td>0.226475</td>\n",
              "      <td>11.355777</td>\n",
              "      <td>0.658183</td>\n",
              "      <td>0.348025</td>\n",
              "      <td>0.407608</td>\n",
              "      <td>0.466047</td>\n",
              "      <td>0.427575</td>\n",
              "      <td>1.234727</td>\n",
              "      <td>1.483946</td>\n",
              "      <td>19.497353</td>\n",
              "      <td>0.287765</td>\n",
              "      <td>1.625916</td>\n",
              "    </tr>\n",
              "    <tr>\n",
              "      <th>min</th>\n",
              "      <td>0.000000</td>\n",
              "      <td>-65600.000000</td>\n",
              "      <td>0.000000</td>\n",
              "      <td>19.000000</td>\n",
              "      <td>0.000000</td>\n",
              "      <td>1.000000</td>\n",
              "      <td>0.000000</td>\n",
              "      <td>0.000000</td>\n",
              "      <td>0.000000</td>\n",
              "      <td>0.000000</td>\n",
              "      <td>0.000000</td>\n",
              "      <td>0.000000</td>\n",
              "      <td>0.000000</td>\n",
              "      <td>0.000000</td>\n",
              "    </tr>\n",
              "    <tr>\n",
              "      <th>25%</th>\n",
              "      <td>0.000000</td>\n",
              "      <td>13550.000000</td>\n",
              "      <td>0.000000</td>\n",
              "      <td>26.000000</td>\n",
              "      <td>2.000000</td>\n",
              "      <td>1.000000</td>\n",
              "      <td>0.000000</td>\n",
              "      <td>0.000000</td>\n",
              "      <td>0.000000</td>\n",
              "      <td>0.000000</td>\n",
              "      <td>0.000000</td>\n",
              "      <td>2.000000</td>\n",
              "      <td>0.000000</td>\n",
              "      <td>0.000000</td>\n",
              "    </tr>\n",
              "    <tr>\n",
              "      <th>50%</th>\n",
              "      <td>1.000000</td>\n",
              "      <td>23310.000000</td>\n",
              "      <td>0.000000</td>\n",
              "      <td>32.000000</td>\n",
              "      <td>2.000000</td>\n",
              "      <td>1.000000</td>\n",
              "      <td>0.000000</td>\n",
              "      <td>1.000000</td>\n",
              "      <td>0.000000</td>\n",
              "      <td>1.000000</td>\n",
              "      <td>0.000000</td>\n",
              "      <td>2.000000</td>\n",
              "      <td>0.000000</td>\n",
              "      <td>1.000000</td>\n",
              "    </tr>\n",
              "    <tr>\n",
              "      <th>75%</th>\n",
              "      <td>1.000000</td>\n",
              "      <td>41690.000000</td>\n",
              "      <td>0.000000</td>\n",
              "      <td>40.000000</td>\n",
              "      <td>2.000000</td>\n",
              "      <td>1.000000</td>\n",
              "      <td>0.000000</td>\n",
              "      <td>1.000000</td>\n",
              "      <td>0.000000</td>\n",
              "      <td>3.000000</td>\n",
              "      <td>2.000000</td>\n",
              "      <td>3.000000</td>\n",
              "      <td>0.000000</td>\n",
              "      <td>3.000000</td>\n",
              "    </tr>\n",
              "    <tr>\n",
              "      <th>max</th>\n",
              "      <td>1.000000</td>\n",
              "      <td>159450.000000</td>\n",
              "      <td>1.000000</td>\n",
              "      <td>74.000000</td>\n",
              "      <td>3.000000</td>\n",
              "      <td>2.000000</td>\n",
              "      <td>1.000000</td>\n",
              "      <td>1.000000</td>\n",
              "      <td>1.000000</td>\n",
              "      <td>3.000000</td>\n",
              "      <td>4.000000</td>\n",
              "      <td>3345.000000</td>\n",
              "      <td>1.000000</td>\n",
              "      <td>4.000000</td>\n",
              "    </tr>\n",
              "  </tbody>\n",
              "</table>\n",
              "</div>\n",
              "      <button class=\"colab-df-convert\" onclick=\"convertToInteractive('df-3ead8be6-d803-4b35-a0b6-b2dc99475458')\"\n",
              "              title=\"Convert this dataframe to an interactive table.\"\n",
              "              style=\"display:none;\">\n",
              "        \n",
              "  <svg xmlns=\"http://www.w3.org/2000/svg\" height=\"24px\"viewBox=\"0 0 24 24\"\n",
              "       width=\"24px\">\n",
              "    <path d=\"M0 0h24v24H0V0z\" fill=\"none\"/>\n",
              "    <path d=\"M18.56 5.44l.94 2.06.94-2.06 2.06-.94-2.06-.94-.94-2.06-.94 2.06-2.06.94zm-11 1L8.5 8.5l.94-2.06 2.06-.94-2.06-.94L8.5 2.5l-.94 2.06-2.06.94zm10 10l.94 2.06.94-2.06 2.06-.94-2.06-.94-.94-2.06-.94 2.06-2.06.94z\"/><path d=\"M17.41 7.96l-1.37-1.37c-.4-.4-.92-.59-1.43-.59-.52 0-1.04.2-1.43.59L10.3 9.45l-7.72 7.72c-.78.78-.78 2.05 0 2.83L4 21.41c.39.39.9.59 1.41.59.51 0 1.02-.2 1.41-.59l7.78-7.78 2.81-2.81c.8-.78.8-2.07 0-2.86zM5.41 20L4 18.59l7.72-7.72 1.47 1.35L5.41 20z\"/>\n",
              "  </svg>\n",
              "      </button>\n",
              "      \n",
              "  <style>\n",
              "    .colab-df-container {\n",
              "      display:flex;\n",
              "      flex-wrap:wrap;\n",
              "      gap: 12px;\n",
              "    }\n",
              "\n",
              "    .colab-df-convert {\n",
              "      background-color: #E8F0FE;\n",
              "      border: none;\n",
              "      border-radius: 50%;\n",
              "      cursor: pointer;\n",
              "      display: none;\n",
              "      fill: #1967D2;\n",
              "      height: 32px;\n",
              "      padding: 0 0 0 0;\n",
              "      width: 32px;\n",
              "    }\n",
              "\n",
              "    .colab-df-convert:hover {\n",
              "      background-color: #E2EBFA;\n",
              "      box-shadow: 0px 1px 2px rgba(60, 64, 67, 0.3), 0px 1px 3px 1px rgba(60, 64, 67, 0.15);\n",
              "      fill: #174EA6;\n",
              "    }\n",
              "\n",
              "    [theme=dark] .colab-df-convert {\n",
              "      background-color: #3B4455;\n",
              "      fill: #D2E3FC;\n",
              "    }\n",
              "\n",
              "    [theme=dark] .colab-df-convert:hover {\n",
              "      background-color: #434B5C;\n",
              "      box-shadow: 0px 1px 3px 1px rgba(0, 0, 0, 0.15);\n",
              "      filter: drop-shadow(0px 1px 2px rgba(0, 0, 0, 0.3));\n",
              "      fill: #FFFFFF;\n",
              "    }\n",
              "  </style>\n",
              "\n",
              "      <script>\n",
              "        const buttonEl =\n",
              "          document.querySelector('#df-3ead8be6-d803-4b35-a0b6-b2dc99475458 button.colab-df-convert');\n",
              "        buttonEl.style.display =\n",
              "          google.colab.kernel.accessAllowed ? 'block' : 'none';\n",
              "\n",
              "        async function convertToInteractive(key) {\n",
              "          const element = document.querySelector('#df-3ead8be6-d803-4b35-a0b6-b2dc99475458');\n",
              "          const dataTable =\n",
              "            await google.colab.kernel.invokeFunction('convertToInteractive',\n",
              "                                                     [key], {});\n",
              "          if (!dataTable) return;\n",
              "\n",
              "          const docLinkHtml = 'Like what you see? Visit the ' +\n",
              "            '<a target=\"_blank\" href=https://colab.research.google.com/notebooks/data_table.ipynb>data table notebook</a>'\n",
              "            + ' to learn more about interactive tables.';\n",
              "          element.innerHTML = '';\n",
              "          dataTable['output_type'] = 'display_data';\n",
              "          await google.colab.output.renderOutput(dataTable, element);\n",
              "          const docLink = document.createElement('div');\n",
              "          docLink.innerHTML = docLinkHtml;\n",
              "          element.appendChild(docLink);\n",
              "        }\n",
              "      </script>\n",
              "    </div>\n",
              "  </div>\n",
              "  "
            ]
          },
          "metadata": {},
          "execution_count": 5
        }
      ]
    },
    {
      "cell_type": "markdown",
      "source": [
        "## Clean and Standardize the data\n",
        "\n",
        "- Remove rows with NAs.  \n",
        "- Remove the row with the single outlier in num_accts. \n",
        "- Remove the rows with negative income values. \n",
        "- Remove the product variable.\n",
        "- Make all the categorical variables into factors."
      ],
      "metadata": {
        "id": "zVTNtVbnO9eq"
      }
    },
    {
      "cell_type": "code",
      "source": [
        "#Remove rows with NAs\n",
        "df_clean = df.dropna()\n",
        "\n",
        "#Remove the row with the single outlier in num_accts\n",
        "df_clean = df_clean[(df_clean['num_accts'] < 20)]\n",
        "\n",
        "#Remove the rows with negative income values\n",
        "df_clean = df_clean[(df_clean['income'] >= 0)]\n",
        "\n",
        "#Remove the product variable\n",
        "df_clean = df_clean.drop(columns = ['product'])\n",
        "\n",
        "#Make all the categorical variables into factors\n",
        "df_clean['answered'] = df_clean['answered'].astype('category')\n",
        "df_clean['female'] = df_clean['female'].astype('category')\n",
        "df_clean['job'] = df_clean['job'].astype('category')\n",
        "df_clean['num_dependents'] = df_clean['num_dependents'].astype('category')\n",
        "df_clean['rent'] = df_clean['rent'].astype('category')\n",
        "df_clean['own_res'] = df_clean['own_res'].astype('category')\n",
        "df_clean['new_car'] = df_clean['new_car'].astype('category')\n",
        "df_clean['chk_acct'] = df_clean['chk_acct'].astype('category')\n",
        "df_clean['sav_acct'] = df_clean['sav_acct'].astype('category')\n",
        "df_clean['num_accts'] = df_clean['num_accts'].astype('category')\n",
        "df_clean['mobile'] = df_clean['mobile'].astype('category')\n",
        "\n",
        "df_clean.info()"
      ],
      "metadata": {
        "colab": {
          "base_uri": "https://localhost:8080/"
        },
        "id": "KXtOZvzHPCqG",
        "outputId": "18d3b56e-f048-4d06-8712-b62cc4b8f99a"
      },
      "execution_count": 6,
      "outputs": [
        {
          "output_type": "stream",
          "name": "stdout",
          "text": [
            "<class 'pandas.core.frame.DataFrame'>\n",
            "Int64Index: 29499 entries, 0 to 29503\n",
            "Data columns (total 13 columns):\n",
            " #   Column          Non-Null Count  Dtype   \n",
            "---  ------          --------------  -----   \n",
            " 0   answered        29499 non-null  category\n",
            " 1   income          29499 non-null  int64   \n",
            " 2   female          29499 non-null  category\n",
            " 3   age             29499 non-null  int64   \n",
            " 4   job             29499 non-null  category\n",
            " 5   num_dependents  29499 non-null  category\n",
            " 6   rent            29499 non-null  category\n",
            " 7   own_res         29499 non-null  category\n",
            " 8   new_car         29499 non-null  category\n",
            " 9   chk_acct        29499 non-null  category\n",
            " 10  sav_acct        29499 non-null  category\n",
            " 11  num_accts       29499 non-null  category\n",
            " 12  mobile          29499 non-null  category\n",
            "dtypes: category(11), int64(2)\n",
            "memory usage: 1009.9 KB\n"
          ]
        }
      ]
    },
    {
      "cell_type": "markdown",
      "source": [
        "## Data Modeling\n",
        "\n",
        "The target variable for this modeling exercise is ANSWERED.  \n",
        "\n",
        "In this dataset answered calls are the majority class.  A simple classification model would be to always predict the majority class.  We'll call this the majority class classifier.  Always predicting the majority class will ensure that predictions are correct for a majority of cases.  \n",
        "\n",
        "Our tree models should have better accuracy than the majority class classifier, which we will therefore use as a benchmark for evaluating these more complicated models. \n",
        "\n",
        "The proportion of answered calls in this dataset is equivalent to the accuracy of the majority class classifier.\n",
        "\n",
        "What is the accuracy of the majority class classifier in this case?\n",
        "\n",
        "Round your answer to three decimals."
      ],
      "metadata": {
        "id": "IDHWQGWjPOt2"
      }
    },
    {
      "cell_type": "code",
      "source": [
        "#Add new field with binary value for leave  \n",
        "df_clean['answered_flag'] = df_clean['answered'].replace('0','0')  \n",
        "df_clean['answered_flag'] = df_clean['answered_flag'].replace('1','1')\n",
        "\n",
        "#Convert to integer\n",
        "df_clean['answered_flag'] = df_clean['answered_flag'].astype('int')\n",
        "\n",
        "#Find the mean value\n",
        "df_clean['answered_flag'].mean()"
      ],
      "metadata": {
        "colab": {
          "base_uri": "https://localhost:8080/"
        },
        "id": "yJhwL42dPRFm",
        "outputId": "795af062-5cc7-4dc8-fc91-72ef66a14976"
      },
      "execution_count": 7,
      "outputs": [
        {
          "output_type": "execute_result",
          "data": {
            "text/plain": [
              "0.5465947998237228"
            ]
          },
          "metadata": {},
          "execution_count": 7
        }
      ]
    },
    {
      "cell_type": "markdown",
      "source": [
        "#Split the training and testing datasets"
      ],
      "metadata": {
        "id": "9sZFLA8LPmhz"
      }
    },
    {
      "cell_type": "code",
      "source": [
        "# split the datafram into independent (x) and dependent (predicted) attributes (y)\n",
        "x = df_clean[['income', 'female', 'age', 'job', 'num_dependents', 'rent', 'own_res', 'new_car', 'chk_acct', 'sav_acct', 'num_accts', 'mobile']]\n",
        "y = df_clean['answered']\n",
        "\n",
        "#place 20% of data in a test dataframe\n",
        "x_train, x_test, y_train, y_test = train_test_split(x, y, test_size=0.2)"
      ],
      "metadata": {
        "id": "8FQqYgXyPovh"
      },
      "execution_count": 8,
      "outputs": []
    },
    {
      "cell_type": "markdown",
      "source": [
        "## Fit a basic tree model \n",
        "\n",
        "Use all available attributes"
      ],
      "metadata": {
        "id": "QM9FcKrfPwYh"
      }
    },
    {
      "cell_type": "code",
      "source": [
        "adviseinvest_tree = DecisionTreeClassifier(criterion=\"entropy\", max_depth=4)\n",
        "\n",
        "# Create Decision Tree Classifer\n",
        "adviseinvest_tree = adviseinvest_tree.fit(x_train,y_train)\n",
        "\n",
        "# Use the tree to predict \"answered\"\n",
        "y_predict = adviseinvest_tree.predict(x_test)"
      ],
      "metadata": {
        "id": "AQh_i0R4PxhN"
      },
      "execution_count": 9,
      "outputs": []
    },
    {
      "cell_type": "markdown",
      "source": [
        "## What is the accuracy?"
      ],
      "metadata": {
        "id": "pTuASCbJQC_P"
      }
    },
    {
      "cell_type": "code",
      "source": [
        "print(\"Accuracy:\",metrics.accuracy_score(y_test, y_predict))"
      ],
      "metadata": {
        "colab": {
          "base_uri": "https://localhost:8080/"
        },
        "id": "wy99TAfRQHTO",
        "outputId": "9341ce7e-cd0f-4f54-beca-81dca0fb4a92"
      },
      "execution_count": 10,
      "outputs": [
        {
          "output_type": "stream",
          "name": "stdout",
          "text": [
            "Accuracy: 0.7272881355932204\n"
          ]
        }
      ]
    },
    {
      "cell_type": "markdown",
      "source": [
        "# Create a confusion matrix\n",
        "\n",
        "This will show false positives, true positives, etc."
      ],
      "metadata": {
        "id": "JtWoV2jJRBl4"
      }
    },
    {
      "cell_type": "code",
      "source": [
        "# create a confusion matrix\n",
        "adviseinvest_tree_matrix = confusion_matrix(y_test, y_predict)\n",
        "print(adviseinvest_tree_matrix)"
      ],
      "metadata": {
        "colab": {
          "base_uri": "https://localhost:8080/"
        },
        "id": "khe2niMKRDwf",
        "outputId": "56a1bbd9-2962-4966-c99b-7a5608204c51"
      },
      "execution_count": 11,
      "outputs": [
        {
          "output_type": "stream",
          "name": "stdout",
          "text": [
            "[[2331  357]\n",
            " [1252 1960]]\n"
          ]
        }
      ]
    },
    {
      "cell_type": "markdown",
      "source": [
        "## Plot the confusion matrix\n",
        "\n",
        "We will use a Seaborn library for this"
      ],
      "metadata": {
        "id": "8LMDM7lnRaIJ"
      }
    },
    {
      "cell_type": "code",
      "source": [
        "#Create a heatmap from our confusion matrix\n",
        "cm = sns.heatmap(adviseinvest_tree_matrix, annot=True, fmt='d',cmap='Reds')\n",
        "\n",
        "cm.set_title('Confusion Matrix');\n",
        "cm.set_xlabel('Predicted')\n",
        "cm.set_ylabel('Observered (Actual)');\n",
        "\n",
        "cm.xaxis.set_ticklabels(['Unanswered','Answered'])\n",
        "cm.yaxis.set_ticklabels(['Unanswered','Answered'])"
      ],
      "metadata": {
        "colab": {
          "base_uri": "https://localhost:8080/",
          "height": 490
        },
        "id": "bhHGG9B0Rd0u",
        "outputId": "fb048388-e5ba-40ba-d55e-508739cb06cd"
      },
      "execution_count": 12,
      "outputs": [
        {
          "output_type": "execute_result",
          "data": {
            "text/plain": [
              "[Text(0, 0.5, 'Unanswered'), Text(0, 1.5, 'Answered')]"
            ]
          },
          "metadata": {},
          "execution_count": 12
        },
        {
          "output_type": "display_data",
          "data": {
            "text/plain": [
              "<Figure size 640x480 with 2 Axes>"
            ],
            "image/png": "[encoded data removed]"
          },
          "metadata": {}
        }
      ]
    },
    {
      "cell_type": "markdown",
      "source": [
        "## Fine tune the model\n",
        "\n",
        "Adjust the threshold for answered down to 0.3.  What happens to profit?\n",
        "\n",
        "The default threshold is 0.5 or 50% likely to make a choice.  If we adjust to 0.30, we are looking for customers with even a 30% chance of answering.   This will lead to more offers being made and more false positives."
      ],
      "metadata": {
        "id": "lgqsjbHCRv8A"
      }
    },
    {
      "cell_type": "code",
      "source": [
        "adviseinvest2_tree = DecisionTreeClassifier(criterion=\"entropy\", max_depth=7)\n",
        "\n",
        "# Create Decision Tree Classifer\n",
        "adviseinvest2_tree = adviseinvest2_tree.fit(x_train,y_train)\n",
        "\n",
        "# Use the tree to predict \"leave\"\n",
        "y_predict2 = (adviseinvest2_tree.predict_proba(x_test)[:,1] >= 0.3)\n",
        "\n",
        "\n",
        "# create a confusion matrix\n",
        "adviseinvest2_matrix = confusion_matrix(y_test, y_predict2)\n",
        "print(adviseinvest2_matrix)\n"
      ],
      "metadata": {
        "colab": {
          "base_uri": "https://localhost:8080/"
        },
        "id": "ccjoyp1fR6eI",
        "outputId": "2649c691-cf0f-4cce-aae4-a1376af5c91c"
      },
      "execution_count": 13,
      "outputs": [
        {
          "output_type": "stream",
          "name": "stdout",
          "text": [
            "[[1442 1246]\n",
            " [ 183 3029]]\n"
          ]
        }
      ]
    },
    {
      "cell_type": "markdown",
      "source": [
        "## Create a new confusion matrix"
      ],
      "metadata": {
        "id": "uZE8Lj1HSRvW"
      }
    },
    {
      "cell_type": "code",
      "source": [
        "import seaborn as sns\n",
        "\n",
        "#Create a heatmap from our confusion matrix\n",
        "cm = sns.heatmap(adviseinvest2_matrix , annot=True, fmt='d',cmap='Reds')\n",
        "\n",
        "cm.set_title('Confusion Matrix');\n",
        "cm.set_xlabel('Predicted')\n",
        "cm.set_ylabel('Observered (Actual)');\n",
        "\n",
        "cm.xaxis.set_ticklabels(['Unanswered','Answered'])\n",
        "cm.yaxis.set_ticklabels(['Unanswered','Answered'])"
      ],
      "metadata": {
        "colab": {
          "base_uri": "https://localhost:8080/",
          "height": 490
        },
        "id": "Uozo1Yk6SUCj",
        "outputId": "c46c9f2a-dfa5-41f4-db58-3c9eb58d4a26"
      },
      "execution_count": 14,
      "outputs": [
        {
          "output_type": "execute_result",
          "data": {
            "text/plain": [
              "[Text(0, 0.5, 'Unanswered'), Text(0, 1.5, 'Answered')]"
            ]
          },
          "metadata": {},
          "execution_count": 14
        },
        {
          "output_type": "display_data",
          "data": {
            "text/plain": [
              "<Figure size 640x480 with 2 Axes>"
            ],
            "image/png": "[encoded data removed]"
          },
          "metadata": {}
        }
      ]
    },
    {
      "cell_type": "markdown",
      "source": [
        "## Calculate Profit\n",
        "\n",
        "Using the confusion matrix in the previous question how much profit (revenue - costs) could be expected with these costs-benefits?\n",
        "\n",
        "Hint: multiply the counts in the confusion matrix cells by the the cost-benefit matrix cells. Note: profit should not be negative! Make sure that you have correctly identified the true positives and the false positives in your confusion matrix. "
      ],
      "metadata": {
        "id": "xzC4ImGnTQNd"
      }
    },
    {
      "cell_type": "code",
      "source": [
        "(3029 * 75) - (1442 * 25)"
      ],
      "metadata": {
        "colab": {
          "base_uri": "https://localhost:8080/"
        },
        "id": "Z404ZdXOTSQu",
        "outputId": "4c67c0ec-e9e4-4b24-e204-423aac507d60"
      },
      "execution_count": 24,
      "outputs": [
        {
          "output_type": "execute_result",
          "data": {
            "text/plain": [
              "191125"
            ]
          },
          "metadata": {},
          "execution_count": 24
        }
      ]
    },
    {
      "cell_type": "markdown",
      "source": [
        "## Step 2\n",
        "\n",
        "Use the supervised model you created for the first question to predict a probability of answering for each prospective customer. \n",
        "\n",
        "Assign a predicted class label of \"yes\" to every customer whose model-estimated probability of answering that is .3 or greater.  (This is the optimal class decision threshold.)"
      ],
      "metadata": {
        "id": "O9bIifHSTwmb"
      }
    },
    {
      "cell_type": "code",
      "source": [
        "df_new.describe()"
      ],
      "metadata": {
        "colab": {
          "base_uri": "https://localhost:8080/",
          "height": 364
        },
        "id": "H8yk8UjYVoEa",
        "outputId": "824bb3c8-0fb5-4f62-e767-197c8b5a447a"
      },
      "execution_count": 16,
      "outputs": [
        {
          "output_type": "execute_result",
          "data": {
            "text/plain": [
              "              income       female         age          job  num_dependents  \\\n",
              "count    1000.000000  1000.000000  1000.00000  1000.000000      1000.00000   \n",
              "mean    34033.260000     0.050000    35.01400     1.947000         1.13900   \n",
              "std     29474.002504     0.218054    11.40473     0.663801         0.34612   \n",
              "min      2760.000000     0.000000    19.00000     0.000000         1.00000   \n",
              "25%     13505.000000     0.000000    26.00000     2.000000         1.00000   \n",
              "50%     23660.000000     0.000000    32.00000     2.000000         1.00000   \n",
              "75%     42970.000000     0.000000    41.00000     2.000000         1.00000   \n",
              "max    159450.000000     1.000000    74.00000     3.000000         2.00000   \n",
              "\n",
              "              rent     own_res      new_car     chk_acct     sav_acct  \\\n",
              "count  1000.000000  1000.00000  1000.000000  1000.000000  1000.000000   \n",
              "mean      0.213000     0.68300     0.227000     1.486000     1.018000   \n",
              "std       0.409633     0.46554     0.419102     1.229356     1.527747   \n",
              "min       0.000000     0.00000     0.000000     0.000000     0.000000   \n",
              "25%       0.000000     0.00000     0.000000     0.000000     0.000000   \n",
              "50%       0.000000     1.00000     0.000000     1.000000     0.000000   \n",
              "75%       0.000000     1.00000     0.000000     3.000000     2.000000   \n",
              "max       1.000000     1.00000     1.000000     3.000000     4.000000   \n",
              "\n",
              "         num_accts       mobile  \n",
              "count  1000.000000  1000.000000  \n",
              "mean      2.406000     0.103000  \n",
              "std       1.188519     0.304111  \n",
              "min       0.000000     0.000000  \n",
              "25%       2.000000     0.000000  \n",
              "50%       2.000000     0.000000  \n",
              "75%       4.000000     0.000000  \n",
              "max       4.000000     1.000000  "
            ],
            "text/html": [
              "\n",
              "  <div id=\"df-43d406dc-e789-4b66-b6c6-4820688bf720\">\n",
              "    <div class=\"colab-df-container\">\n",
              "      <div>\n",
              "<style scoped>\n",
              "    .dataframe tbody tr th:only-of-type {\n",
              "        vertical-align: middle;\n",
              "    }\n",
              "\n",
              "    .dataframe tbody tr th {\n",
              "        vertical-align: top;\n",
              "    }\n",
              "\n",
              "    .dataframe thead th {\n",
              "        text-align: right;\n",
              "    }\n",
              "</style>\n",
              "<table border=\"1\" class=\"dataframe\">\n",
              "  <thead>\n",
              "    <tr style=\"text-align: right;\">\n",
              "      <th></th>\n",
              "      <th>income</th>\n",
              "      <th>female</th>\n",
              "      <th>age</th>\n",
              "      <th>job</th>\n",
              "      <th>num_dependents</th>\n",
              "      <th>rent</th>\n",
              "      <th>own_res</th>\n",
              "      <th>new_car</th>\n",
              "      <th>chk_acct</th>\n",
              "      <th>sav_acct</th>\n",
              "      <th>num_accts</th>\n",
              "      <th>mobile</th>\n",
              "    </tr>\n",
              "  </thead>\n",
              "  <tbody>\n",
              "    <tr>\n",
              "      <th>count</th>\n",
              "      <td>1000.000000</td>\n",
              "      <td>1000.000000</td>\n",
              "      <td>1000.00000</td>\n",
              "      <td>1000.000000</td>\n",
              "      <td>1000.00000</td>\n",
              "      <td>1000.000000</td>\n",
              "      <td>1000.00000</td>\n",
              "      <td>1000.000000</td>\n",
              "      <td>1000.000000</td>\n",
              "      <td>1000.000000</td>\n",
              "      <td>1000.000000</td>\n",
              "      <td>1000.000000</td>\n",
              "    </tr>\n",
              "    <tr>\n",
              "      <th>mean</th>\n",
              "      <td>34033.260000</td>\n",
              "      <td>0.050000</td>\n",
              "      <td>35.01400</td>\n",
              "      <td>1.947000</td>\n",
              "      <td>1.13900</td>\n",
              "      <td>0.213000</td>\n",
              "      <td>0.68300</td>\n",
              "      <td>0.227000</td>\n",
              "      <td>1.486000</td>\n",
              "      <td>1.018000</td>\n",
              "      <td>2.406000</td>\n",
              "      <td>0.103000</td>\n",
              "    </tr>\n",
              "    <tr>\n",
              "      <th>std</th>\n",
              "      <td>29474.002504</td>\n",
              "      <td>0.218054</td>\n",
              "      <td>11.40473</td>\n",
              "      <td>0.663801</td>\n",
              "      <td>0.34612</td>\n",
              "      <td>0.409633</td>\n",
              "      <td>0.46554</td>\n",
              "      <td>0.419102</td>\n",
              "      <td>1.229356</td>\n",
              "      <td>1.527747</td>\n",
              "      <td>1.188519</td>\n",
              "      <td>0.304111</td>\n",
              "    </tr>\n",
              "    <tr>\n",
              "      <th>min</th>\n",
              "      <td>2760.000000</td>\n",
              "      <td>0.000000</td>\n",
              "      <td>19.00000</td>\n",
              "      <td>0.000000</td>\n",
              "      <td>1.00000</td>\n",
              "      <td>0.000000</td>\n",
              "      <td>0.00000</td>\n",
              "      <td>0.000000</td>\n",
              "      <td>0.000000</td>\n",
              "      <td>0.000000</td>\n",
              "      <td>0.000000</td>\n",
              "      <td>0.000000</td>\n",
              "    </tr>\n",
              "    <tr>\n",
              "      <th>25%</th>\n",
              "      <td>13505.000000</td>\n",
              "      <td>0.000000</td>\n",
              "      <td>26.00000</td>\n",
              "      <td>2.000000</td>\n",
              "      <td>1.00000</td>\n",
              "      <td>0.000000</td>\n",
              "      <td>0.00000</td>\n",
              "      <td>0.000000</td>\n",
              "      <td>0.000000</td>\n",
              "      <td>0.000000</td>\n",
              "      <td>2.000000</td>\n",
              "      <td>0.000000</td>\n",
              "    </tr>\n",
              "    <tr>\n",
              "      <th>50%</th>\n",
              "      <td>23660.000000</td>\n",
              "      <td>0.000000</td>\n",
              "      <td>32.00000</td>\n",
              "      <td>2.000000</td>\n",
              "      <td>1.00000</td>\n",
              "      <td>0.000000</td>\n",
              "      <td>1.00000</td>\n",
              "      <td>0.000000</td>\n",
              "      <td>1.000000</td>\n",
              "      <td>0.000000</td>\n",
              "      <td>2.000000</td>\n",
              "      <td>0.000000</td>\n",
              "    </tr>\n",
              "    <tr>\n",
              "      <th>75%</th>\n",
              "      <td>42970.000000</td>\n",
              "      <td>0.000000</td>\n",
              "      <td>41.00000</td>\n",
              "      <td>2.000000</td>\n",
              "      <td>1.00000</td>\n",
              "      <td>0.000000</td>\n",
              "      <td>1.00000</td>\n",
              "      <td>0.000000</td>\n",
              "      <td>3.000000</td>\n",
              "      <td>2.000000</td>\n",
              "      <td>4.000000</td>\n",
              "      <td>0.000000</td>\n",
              "    </tr>\n",
              "    <tr>\n",
              "      <th>max</th>\n",
              "      <td>159450.000000</td>\n",
              "      <td>1.000000</td>\n",
              "      <td>74.00000</td>\n",
              "      <td>3.000000</td>\n",
              "      <td>2.00000</td>\n",
              "      <td>1.000000</td>\n",
              "      <td>1.00000</td>\n",
              "      <td>1.000000</td>\n",
              "      <td>3.000000</td>\n",
              "      <td>4.000000</td>\n",
              "      <td>4.000000</td>\n",
              "      <td>1.000000</td>\n",
              "    </tr>\n",
              "  </tbody>\n",
              "</table>\n",
              "</div>\n",
              "      <button class=\"colab-df-convert\" onclick=\"convertToInteractive('df-43d406dc-e789-4b66-b6c6-4820688bf720')\"\n",
              "              title=\"Convert this dataframe to an interactive table.\"\n",
              "              style=\"display:none;\">\n",
              "        \n",
              "  <svg xmlns=\"http://www.w3.org/2000/svg\" height=\"24px\"viewBox=\"0 0 24 24\"\n",
              "       width=\"24px\">\n",
              "    <path d=\"M0 0h24v24H0V0z\" fill=\"none\"/>\n",
              "    <path d=\"M18.56 5.44l.94 2.06.94-2.06 2.06-.94-2.06-.94-.94-2.06-.94 2.06-2.06.94zm-11 1L8.5 8.5l.94-2.06 2.06-.94-2.06-.94L8.5 2.5l-.94 2.06-2.06.94zm10 10l.94 2.06.94-2.06 2.06-.94-2.06-.94-.94-2.06-.94 2.06-2.06.94z\"/><path d=\"M17.41 7.96l-1.37-1.37c-.4-.4-.92-.59-1.43-.59-.52 0-1.04.2-1.43.59L10.3 9.45l-7.72 7.72c-.78.78-.78 2.05 0 2.83L4 21.41c.39.39.9.59 1.41.59.51 0 1.02-.2 1.41-.59l7.78-7.78 2.81-2.81c.8-.78.8-2.07 0-2.86zM5.41 20L4 18.59l7.72-7.72 1.47 1.35L5.41 20z\"/>\n",
              "  </svg>\n",
              "      </button>\n",
              "      \n",
              "  <style>\n",
              "    .colab-df-container {\n",
              "      display:flex;\n",
              "      flex-wrap:wrap;\n",
              "      gap: 12px;\n",
              "    }\n",
              "\n",
              "    .colab-df-convert {\n",
              "      background-color: #E8F0FE;\n",
              "      border: none;\n",
              "      border-radius: 50%;\n",
              "      cursor: pointer;\n",
              "      display: none;\n",
              "      fill: #1967D2;\n",
              "      height: 32px;\n",
              "      padding: 0 0 0 0;\n",
              "      width: 32px;\n",
              "    }\n",
              "\n",
              "    .colab-df-convert:hover {\n",
              "      background-color: #E2EBFA;\n",
              "      box-shadow: 0px 1px 2px rgba(60, 64, 67, 0.3), 0px 1px 3px 1px rgba(60, 64, 67, 0.15);\n",
              "      fill: #174EA6;\n",
              "    }\n",
              "\n",
              "    [theme=dark] .colab-df-convert {\n",
              "      background-color: #3B4455;\n",
              "      fill: #D2E3FC;\n",
              "    }\n",
              "\n",
              "    [theme=dark] .colab-df-convert:hover {\n",
              "      background-color: #434B5C;\n",
              "      box-shadow: 0px 1px 3px 1px rgba(0, 0, 0, 0.15);\n",
              "      filter: drop-shadow(0px 1px 2px rgba(0, 0, 0, 0.3));\n",
              "      fill: #FFFFFF;\n",
              "    }\n",
              "  </style>\n",
              "\n",
              "      <script>\n",
              "        const buttonEl =\n",
              "          document.querySelector('#df-43d406dc-e789-4b66-b6c6-4820688bf720 button.colab-df-convert');\n",
              "        buttonEl.style.display =\n",
              "          google.colab.kernel.accessAllowed ? 'block' : 'none';\n",
              "\n",
              "        async function convertToInteractive(key) {\n",
              "          const element = document.querySelector('#df-43d406dc-e789-4b66-b6c6-4820688bf720');\n",
              "          const dataTable =\n",
              "            await google.colab.kernel.invokeFunction('convertToInteractive',\n",
              "                                                     [key], {});\n",
              "          if (!dataTable) return;\n",
              "\n",
              "          const docLinkHtml = 'Like what you see? Visit the ' +\n",
              "            '<a target=\"_blank\" href=https://colab.research.google.com/notebooks/data_table.ipynb>data table notebook</a>'\n",
              "            + ' to learn more about interactive tables.';\n",
              "          element.innerHTML = '';\n",
              "          dataTable['output_type'] = 'display_data';\n",
              "          await google.colab.output.renderOutput(dataTable, element);\n",
              "          const docLink = document.createElement('div');\n",
              "          docLink.innerHTML = docLinkHtml;\n",
              "          element.appendChild(docLink);\n",
              "        }\n",
              "      </script>\n",
              "    </div>\n",
              "  </div>\n",
              "  "
            ]
          },
          "metadata": {},
          "execution_count": 16
        }
      ]
    },
    {
      "cell_type": "code",
      "source": [
        "df_new.info()"
      ],
      "metadata": {
        "colab": {
          "base_uri": "https://localhost:8080/"
        },
        "id": "YtNEvd52b4wF",
        "outputId": "ced0c613-195f-4141-e4c4-8e27683ba751"
      },
      "execution_count": 17,
      "outputs": [
        {
          "output_type": "stream",
          "name": "stdout",
          "text": [
            "<class 'pandas.core.frame.DataFrame'>\n",
            "RangeIndex: 1000 entries, 0 to 999\n",
            "Data columns (total 13 columns):\n",
            " #   Column          Non-Null Count  Dtype \n",
            "---  ------          --------------  ----- \n",
            " 0   income          1000 non-null   int64 \n",
            " 1   female          1000 non-null   int64 \n",
            " 2   age             1000 non-null   int64 \n",
            " 3   job             1000 non-null   int64 \n",
            " 4   num_dependents  1000 non-null   int64 \n",
            " 5   rent            1000 non-null   int64 \n",
            " 6   own_res         1000 non-null   int64 \n",
            " 7   new_car         1000 non-null   int64 \n",
            " 8   chk_acct        1000 non-null   int64 \n",
            " 9   sav_acct        1000 non-null   int64 \n",
            " 10  num_accts       1000 non-null   int64 \n",
            " 11  mobile          1000 non-null   int64 \n",
            " 12  customer_id     1000 non-null   object\n",
            "dtypes: int64(12), object(1)\n",
            "memory usage: 101.7+ KB\n"
          ]
        }
      ]
    },
    {
      "cell_type": "code",
      "source": [
        "#Make all the categorical variables into factors\n",
        "df_new['female'] = df_new['female'].astype('category')\n",
        "df_new['job'] = df_new['job'].astype('category')\n",
        "df_new['num_dependents'] = df_new['num_dependents'].astype('category')\n",
        "df_new['rent'] = df_new['rent'].astype('category')\n",
        "df_new['own_res'] = df_new['own_res'].astype('category')\n",
        "df_new['new_car'] = df_new['new_car'].astype('category')\n",
        "df_new['chk_acct'] = df_new['chk_acct'].astype('category')\n",
        "df_new['sav_acct'] = df_new['sav_acct'].astype('category')\n",
        "df_new['num_accts'] = df_new['num_accts'].astype('category')\n",
        "df_new['mobile'] = df_new['mobile'].astype('category')\n",
        "\n",
        "df_new.info()"
      ],
      "metadata": {
        "colab": {
          "base_uri": "https://localhost:8080/"
        },
        "id": "SRprHRW9b1oh",
        "outputId": "542c28ea-49dc-419e-df6c-14cc11e6233a"
      },
      "execution_count": 18,
      "outputs": [
        {
          "output_type": "stream",
          "name": "stdout",
          "text": [
            "<class 'pandas.core.frame.DataFrame'>\n",
            "RangeIndex: 1000 entries, 0 to 999\n",
            "Data columns (total 13 columns):\n",
            " #   Column          Non-Null Count  Dtype   \n",
            "---  ------          --------------  -----   \n",
            " 0   income          1000 non-null   int64   \n",
            " 1   female          1000 non-null   category\n",
            " 2   age             1000 non-null   int64   \n",
            " 3   job             1000 non-null   category\n",
            " 4   num_dependents  1000 non-null   category\n",
            " 5   rent            1000 non-null   category\n",
            " 6   own_res         1000 non-null   category\n",
            " 7   new_car         1000 non-null   category\n",
            " 8   chk_acct        1000 non-null   category\n",
            " 9   sav_acct        1000 non-null   category\n",
            " 10  num_accts       1000 non-null   category\n",
            " 11  mobile          1000 non-null   category\n",
            " 12  customer_id     1000 non-null   object  \n",
            "dtypes: category(10), int64(2), object(1)\n",
            "memory usage: 34.9+ KB\n"
          ]
        }
      ]
    },
    {
      "cell_type": "code",
      "source": [
        "# split the datafram into independent (x) and dependent (predicted) attributes (y)\n",
        "x_new = df_new[['income', 'female', 'age', 'job', 'num_dependents', 'rent', 'own_res', 'new_car', 'chk_acct', 'sav_acct', 'num_accts', 'mobile']]\n"
      ],
      "metadata": {
        "id": "PpcV1RiVcjMY"
      },
      "execution_count": 19,
      "outputs": []
    },
    {
      "cell_type": "markdown",
      "source": [
        "## Predict the customers\n",
        "\n",
        "Use the tree that we created earlier\n",
        "Take the customers one by one and pass it to the model, or create a mailing by passing a batch"
      ],
      "metadata": {
        "id": "6IhIJhoMc4ti"
      }
    },
    {
      "cell_type": "code",
      "source": [
        "# Use the tree to predict \"leave\" for the first customer\n",
        "y_new_predict = adviseinvest2_tree.predict_proba(x_new)[:,1] >= 0.3\n",
        "\n",
        "#Convert it to a dataframe\n",
        "df_new_predict = pd.DataFrame(y_new_predict)\n",
        "\n",
        "df_new_predict.head(10)"
      ],
      "metadata": {
        "colab": {
          "base_uri": "https://localhost:8080/",
          "height": 363
        },
        "id": "7ae0BYsCc6sB",
        "outputId": "6e17082f-9af8-44d9-cda9-09aa8174cb20"
      },
      "execution_count": 20,
      "outputs": [
        {
          "output_type": "execute_result",
          "data": {
            "text/plain": [
              "       0\n",
              "0   True\n",
              "1   True\n",
              "2   True\n",
              "3   True\n",
              "4  False\n",
              "5   True\n",
              "6   True\n",
              "7   True\n",
              "8   True\n",
              "9   True"
            ],
            "text/html": [
              "\n",
              "  <div id=\"df-828fbb2f-f5cb-4387-b898-ad504ad54c49\">\n",
              "    <div class=\"colab-df-container\">\n",
              "      <div>\n",
              "<style scoped>\n",
              "    .dataframe tbody tr th:only-of-type {\n",
              "        vertical-align: middle;\n",
              "    }\n",
              "\n",
              "    .dataframe tbody tr th {\n",
              "        vertical-align: top;\n",
              "    }\n",
              "\n",
              "    .dataframe thead th {\n",
              "        text-align: right;\n",
              "    }\n",
              "</style>\n",
              "<table border=\"1\" class=\"dataframe\">\n",
              "  <thead>\n",
              "    <tr style=\"text-align: right;\">\n",
              "      <th></th>\n",
              "      <th>0</th>\n",
              "    </tr>\n",
              "  </thead>\n",
              "  <tbody>\n",
              "    <tr>\n",
              "      <th>0</th>\n",
              "      <td>True</td>\n",
              "    </tr>\n",
              "    <tr>\n",
              "      <th>1</th>\n",
              "      <td>True</td>\n",
              "    </tr>\n",
              "    <tr>\n",
              "      <th>2</th>\n",
              "      <td>True</td>\n",
              "    </tr>\n",
              "    <tr>\n",
              "      <th>3</th>\n",
              "      <td>True</td>\n",
              "    </tr>\n",
              "    <tr>\n",
              "      <th>4</th>\n",
              "      <td>False</td>\n",
              "    </tr>\n",
              "    <tr>\n",
              "      <th>5</th>\n",
              "      <td>True</td>\n",
              "    </tr>\n",
              "    <tr>\n",
              "      <th>6</th>\n",
              "      <td>True</td>\n",
              "    </tr>\n",
              "    <tr>\n",
              "      <th>7</th>\n",
              "      <td>True</td>\n",
              "    </tr>\n",
              "    <tr>\n",
              "      <th>8</th>\n",
              "      <td>True</td>\n",
              "    </tr>\n",
              "    <tr>\n",
              "      <th>9</th>\n",
              "      <td>True</td>\n",
              "    </tr>\n",
              "  </tbody>\n",
              "</table>\n",
              "</div>\n",
              "      <button class=\"colab-df-convert\" onclick=\"convertToInteractive('df-828fbb2f-f5cb-4387-b898-ad504ad54c49')\"\n",
              "              title=\"Convert this dataframe to an interactive table.\"\n",
              "              style=\"display:none;\">\n",
              "        \n",
              "  <svg xmlns=\"http://www.w3.org/2000/svg\" height=\"24px\"viewBox=\"0 0 24 24\"\n",
              "       width=\"24px\">\n",
              "    <path d=\"M0 0h24v24H0V0z\" fill=\"none\"/>\n",
              "    <path d=\"M18.56 5.44l.94 2.06.94-2.06 2.06-.94-2.06-.94-.94-2.06-.94 2.06-2.06.94zm-11 1L8.5 8.5l.94-2.06 2.06-.94-2.06-.94L8.5 2.5l-.94 2.06-2.06.94zm10 10l.94 2.06.94-2.06 2.06-.94-2.06-.94-.94-2.06-.94 2.06-2.06.94z\"/><path d=\"M17.41 7.96l-1.37-1.37c-.4-.4-.92-.59-1.43-.59-.52 0-1.04.2-1.43.59L10.3 9.45l-7.72 7.72c-.78.78-.78 2.05 0 2.83L4 21.41c.39.39.9.59 1.41.59.51 0 1.02-.2 1.41-.59l7.78-7.78 2.81-2.81c.8-.78.8-2.07 0-2.86zM5.41 20L4 18.59l7.72-7.72 1.47 1.35L5.41 20z\"/>\n",
              "  </svg>\n",
              "      </button>\n",
              "      \n",
              "  <style>\n",
              "    .colab-df-container {\n",
              "      display:flex;\n",
              "      flex-wrap:wrap;\n",
              "      gap: 12px;\n",
              "    }\n",
              "\n",
              "    .colab-df-convert {\n",
              "      background-color: #E8F0FE;\n",
              "      border: none;\n",
              "      border-radius: 50%;\n",
              "      cursor: pointer;\n",
              "      display: none;\n",
              "      fill: #1967D2;\n",
              "      height: 32px;\n",
              "      padding: 0 0 0 0;\n",
              "      width: 32px;\n",
              "    }\n",
              "\n",
              "    .colab-df-convert:hover {\n",
              "      background-color: #E2EBFA;\n",
              "      box-shadow: 0px 1px 2px rgba(60, 64, 67, 0.3), 0px 1px 3px 1px rgba(60, 64, 67, 0.15);\n",
              "      fill: #174EA6;\n",
              "    }\n",
              "\n",
              "    [theme=dark] .colab-df-convert {\n",
              "      background-color: #3B4455;\n",
              "      fill: #D2E3FC;\n",
              "    }\n",
              "\n",
              "    [theme=dark] .colab-df-convert:hover {\n",
              "      background-color: #434B5C;\n",
              "      box-shadow: 0px 1px 3px 1px rgba(0, 0, 0, 0.15);\n",
              "      filter: drop-shadow(0px 1px 2px rgba(0, 0, 0, 0.3));\n",
              "      fill: #FFFFFF;\n",
              "    }\n",
              "  </style>\n",
              "\n",
              "      <script>\n",
              "        const buttonEl =\n",
              "          document.querySelector('#df-828fbb2f-f5cb-4387-b898-ad504ad54c49 button.colab-df-convert');\n",
              "        buttonEl.style.display =\n",
              "          google.colab.kernel.accessAllowed ? 'block' : 'none';\n",
              "\n",
              "        async function convertToInteractive(key) {\n",
              "          const element = document.querySelector('#df-828fbb2f-f5cb-4387-b898-ad504ad54c49');\n",
              "          const dataTable =\n",
              "            await google.colab.kernel.invokeFunction('convertToInteractive',\n",
              "                                                     [key], {});\n",
              "          if (!dataTable) return;\n",
              "\n",
              "          const docLinkHtml = 'Like what you see? Visit the ' +\n",
              "            '<a target=\"_blank\" href=https://colab.research.google.com/notebooks/data_table.ipynb>data table notebook</a>'\n",
              "            + ' to learn more about interactive tables.';\n",
              "          element.innerHTML = '';\n",
              "          dataTable['output_type'] = 'display_data';\n",
              "          await google.colab.output.renderOutput(dataTable, element);\n",
              "          const docLink = document.createElement('div');\n",
              "          docLink.innerHTML = docLinkHtml;\n",
              "          element.appendChild(docLink);\n",
              "        }\n",
              "      </script>\n",
              "    </div>\n",
              "  </div>\n",
              "  "
            ]
          },
          "metadata": {},
          "execution_count": 20
        }
      ]
    },
    {
      "cell_type": "code",
      "source": [
        "df_new_predict.info()"
      ],
      "metadata": {
        "colab": {
          "base_uri": "https://localhost:8080/"
        },
        "id": "ztqTm5BUgGig",
        "outputId": "c73dea8e-9bdf-4ede-bd67-4ffa213bc036"
      },
      "execution_count": 21,
      "outputs": [
        {
          "output_type": "stream",
          "name": "stdout",
          "text": [
            "<class 'pandas.core.frame.DataFrame'>\n",
            "RangeIndex: 1000 entries, 0 to 999\n",
            "Data columns (total 1 columns):\n",
            " #   Column  Non-Null Count  Dtype\n",
            "---  ------  --------------  -----\n",
            " 0   0       1000 non-null   bool \n",
            "dtypes: bool(1)\n",
            "memory usage: 1.1 KB\n"
          ]
        }
      ]
    },
    {
      "cell_type": "code",
      "source": [
        "df_new_predict.loc[df_new_predict[0] == True].count()"
      ],
      "metadata": {
        "colab": {
          "base_uri": "https://localhost:8080/"
        },
        "id": "QaeopZ-JfRAo",
        "outputId": "bf87cd23-f0cd-4aa3-c7d9-3b14954eb147"
      },
      "execution_count": 22,
      "outputs": [
        {
          "output_type": "execute_result",
          "data": {
            "text/plain": [
              "0    734\n",
              "dtype: int64"
            ]
          },
          "metadata": {},
          "execution_count": 22
        }
      ]
    }
  ]
}